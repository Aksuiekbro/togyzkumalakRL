{
  "cells": [
    {
      "cell_type": "markdown",
      "metadata": {},
      "source": [
        "# AlphaZero for Togyz Kumalak — Kaggle GPU Training\n",
        "\n",
        "This notebook runs a minimal end-to-end loop:\n",
        "- build model\n",
        "- generate self-play samples with MCTS\n",
        "- train for a few steps with AMP (if CUDA)\n",
        "- checkpoint to `/kaggle/working/`\n",
        "\n",
        "Adjust `SIMS`, `GAMES`, and `STEPS` for longer runs.\n"
      ]
    },
    {
      "cell_type": "code",
      "execution_count": null,
      "metadata": {},
      "outputs": [],
      "source": [
        "import os, math, random\n",
        "\n",
        "import torch\n",
        "\n",
        "from src.nn.model import AlphaZeroNet\n",
        "from src.selfplay.worker import play_episode, SelfPlayConfig\n",
        "from src.trainer.loop import ReplayBuffer, TrainConfig, train_one_iteration, save_checkpoint\n",
        "\n",
        "SIMS = 80  # increase to 160+ for stronger search\n",
        "GAMES = 32  # self-play games per mini-iteration\n",
        "STEPS = 50  # optimizer steps per mini-iteration\n",
        "\n",
        "device = 'cuda' if torch.cuda.is_available() else 'cpu'\n",
        "print('Using device:', device)\n",
        "\n",
        "net = AlphaZeroNet(in_channels=7, channels=64, num_blocks=6).to(device)\n",
        "rb = ReplayBuffer(capacity=300_000)\n",
        "\n",
        "sp_cfg = SelfPlayConfig(simulations=SIMS)\n",
        "tr_cfg = TrainConfig(batch_size=256, epochs_per_iter=1, amp=True, device=device)\n",
        "opt = torch.optim.AdamW(net.parameters(), lr=1e-3, weight_decay=1e-4)\n",
        "\n",
        "for it in range(3):  # extend as session allows\n",
        "    # Generate self-play data\n",
        "    for _ in range(GAMES):\n",
        "        samples = play_episode(net, sp_cfg)\n",
        "        rb.add_many(samples)\n",
        "    print(f'Iter {it}: buffer size =', len(rb))\n",
        "\n",
        "    # Train\n",
        "    loss = train_one_iteration(net, opt, rb, tr_cfg, steps=STEPS)\n",
        "    print(f'Iter {it}: loss = {loss:.4f}')\n",
        "\n",
        "    # Checkpoint\n",
        "    ckpt_path = '/kaggle/working/az_togyz.pt'\n",
        "    save_checkpoint(ckpt_path, net, opt, step=it)\n",
        "    print('Saved checkpoint to', ckpt_path)\n"
      ]
    }
  ],
  "metadata": {
    "language_info": {
      "name": "python"
    }
  },
  "nbformat": 4,
  "nbformat_minor": 2
}
